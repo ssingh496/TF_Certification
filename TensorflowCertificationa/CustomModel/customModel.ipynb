{
 "cells": [
  {
   "cell_type": "code",
   "execution_count": 1,
   "metadata": {
    "collapsed": true
   },
   "outputs": [],
   "source": [
    "import tensorflow as tf\n",
    "import numpy as np\n",
    "import matplotlib.pyplot as plt\n",
    "class Model():\n",
    "    def __init__(self):\n",
    "        self.w= tf.Variable(3.0)\n",
    "        self.b =tf.Variable(2.0)\n",
    "\n",
    "    def __call__(self, x):\n",
    "        return x*self.w + self.b\n",
    "\n",
    "model =Model()\n",
    "\n"
   ]
  },
  {
   "cell_type": "code",
   "execution_count": 2,
   "outputs": [],
   "source": [
    "# create a custom data\n",
    "\n",
    "true_w =5.0\n",
    "true_b =3.0\n",
    "NUM_EXAMPLE =1000\n",
    "random_x = tf.random.normal(shape=[NUM_EXAMPLE])\n",
    "true_y = (true_w)*random_x + true_b\n"
   ],
   "metadata": {
    "collapsed": false,
    "pycharm": {
     "name": "#%%\n"
    }
   }
  },
  {
   "cell_type": "code",
   "execution_count": 3,
   "outputs": [],
   "source": [
    "def loss(predicted_y, actual_y):\n",
    "    return tf.reduce_mean(tf.square(predicted_y,actual_y))\n"
   ],
   "metadata": {
    "collapsed": false,
    "pycharm": {
     "name": "#%%\n"
    }
   }
  },
  {
   "cell_type": "code",
   "execution_count": 4,
   "outputs": [
    {
     "data": {
      "text/plain": "<Figure size 432x288 with 1 Axes>",
      "image/png": "[encoded data removed]"
     },
     "metadata": {
      "needs_background": "light"
     },
     "output_type": "display_data"
    },
    {
     "name": "stdout",
     "output_type": "stream",
     "text": [
      "current loss: 12.925233840942382812500000000000000000000000000000000000000000000000\n"
     ]
    }
   ],
   "source": [
    "def plotdata(input, output, predicted_output):\n",
    "    real = plt.scatter(input, output,c='b')\n",
    "    predicted =plt.scatter(input,predicted_output, c='r')\n",
    "    plt.legend((real, predicted), ('Real Data', 'Predicted Data'))\n",
    "    plt.show()\n",
    "\n",
    "\n",
    "plotdata(random_x, true_y,model(random_x))\n",
    "print(\"current loss: %1.66f\" %loss(model(random_x),true_y ))\n",
    "plt.show()\n"
   ],
   "metadata": {
    "collapsed": false,
    "pycharm": {
     "name": "#%%\n"
    }
   }
  },
  {
   "cell_type": "code",
   "execution_count": 5,
   "outputs": [],
   "source": [
    "import random\n",
    "\n",
    "def train(model,input, output, learningRate):\n",
    "    with tf.GradientTape() as t:\n",
    "        currentLoss = loss(model(input), output)\n",
    "    dw, db = t.gradient(currentLoss, (model.w, model.b))\n",
    "    model.w.assign_sub(learningRate * dw)\n",
    "    model.w.assign_sub(learningRate * db)\n",
    "    return currentLoss\n",
    "\n"
   ],
   "metadata": {
    "collapsed": false,
    "pycharm": {
     "name": "#%%\n"
    }
   }
  },
  {
   "cell_type": "code",
   "execution_count": 6,
   "outputs": [
    {
     "name": "stdout",
     "output_type": "stream",
     "text": [
      "Epoch  0: W=3.00, b=2.00, loss=12.925234\n",
      "Epoch  1: W=2.01, b=2.00, loss=7.978060\n",
      "Epoch  2: W=1.21, b=2.00, loss=5.436994\n",
      "Epoch  3: W=0.57, b=2.00, loss=4.314755\n",
      "Epoch  4: W=0.06, b=2.00, loss=4.002426\n",
      "Epoch  5: W=-0.35, b=2.00, loss=4.129086\n",
      "Epoch  6: W=-0.68, b=2.00, loss=4.472650\n",
      "Epoch  7: W=-0.94, b=2.00, loss=4.903415\n",
      "Epoch  8: W=-1.15, b=2.00, loss=5.348436\n",
      "Epoch  9: W=-1.32, b=2.00, loss=5.769161\n",
      "Epoch 10: W=-1.46, b=2.00, loss=6.147479\n",
      "Epoch 11: W=-1.57, b=2.00, loss=6.477082\n",
      "Epoch 12: W=-1.65, b=2.00, loss=6.758187\n",
      "Epoch 13: W=-1.72, b=2.00, loss=6.994356\n",
      "Epoch 14: W=-1.78, b=2.00, loss=7.190611\n",
      "Epoch 15: W=-1.82, b=2.00, loss=7.352378\n",
      "Epoch 16: W=-1.86, b=2.00, loss=7.484899\n",
      "Epoch 17: W=-1.89, b=2.00, loss=7.592949\n",
      "Epoch 18: W=-1.91, b=2.00, loss=7.680725\n",
      "Epoch 19: W=-1.93, b=2.00, loss=7.751831\n",
      "Epoch 20: W=-1.94, b=2.00, loss=7.809303\n",
      "Epoch 21: W=-1.96, b=2.00, loss=7.855673\n",
      "Epoch 22: W=-1.97, b=2.00, loss=7.893034\n",
      "Epoch 23: W=-1.97, b=2.00, loss=7.923105\n",
      "Epoch 24: W=-1.98, b=2.00, loss=7.947285\n"
     ]
    }
   ],
   "source": [
    "list_w, list_b = [], []\n",
    "epochs = range(25)\n",
    "losses=[]\n",
    "for epoch in epochs:\n",
    "    list_w.append(model.w.numpy())\n",
    "    list_b.append(model.b.numpy())\n",
    "    currentLoss = train(model,random_x,true_y, learningRate=0.1)\n",
    "    losses.append(currentLoss)\n",
    "    print(\"Epoch %2d: W=%1.2f, b=%1.2f, loss=%2f\" %(epoch, list_w[-1], list_b[-1], currentLoss))"
   ],
   "metadata": {
    "collapsed": false,
    "pycharm": {
     "name": "#%%\n"
    }
   }
  }
 ],
 "metadata": {
  "kernelspec": {
   "display_name": "Python 3",
   "language": "python",
   "name": "python3"
  },
  "language_info": {
   "codemirror_mode": {
    "name": "ipython",
    "version": 2
   },
   "file_extension": ".py",
   "mimetype": "text/x-python",
   "name": "python",
   "nbconvert_exporter": "python",
   "pygments_lexer": "ipython2",
   "version": "2.7.6"
  }
 },
 "nbformat": 4,
 "nbformat_minor": 0
}